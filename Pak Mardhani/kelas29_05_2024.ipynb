{
 "cells": [
  {
   "cell_type": "markdown",
   "metadata": {},
   "source": [
    "# Definisi Process Mining"
   ]
  },
  {
   "cell_type": "markdown",
   "metadata": {},
   "source": [
    "<img src=\"bpmn_running_example.png\">"
   ]
  },
  {
   "cell_type": "markdown",
   "metadata": {},
   "source": [
    "Sebagian besar perusahaan yang beroperasi di hampir semua bidang melaksanakan suatu proses. Apakah inti bisnis suatu perusahaan adalah mengirimkan produk, misalnya memproduksi mobil atau membuat pizza lezat, atau menyediakan layanan, seperti memberikan Anda kredit hipotek untuk membeli rumah impian Anda atau membayarkan klaim asuransi Anda, proses tetap dieksekusi. Oleh karena itu, pertanyaan yang muncul secara alami adalah: “Apa itu proses?”. Secara umum, ada beberapa konsep tentang proses, tetapi dalam process mining, kita biasanya mengasumsikan definisi konseptual berikut:\n",
    "\n",
    "“<strong>Proses</strong> mewakili <strong>kumpulan aktivitas</strong> yang kita <strong>laksanakan</strong> untuk mencapai <strong>tujuan tertentu</strong>.”"
   ]
  },
  {
   "cell_type": "markdown",
   "metadata": {},
   "source": [
    "\"Apa Itu Process Mining?\"\n",
    "\n",
    "Menurut <b>Sebastiaan J. Van Zelst</b>, di video: https://www.youtube.com/watch?v=XLHtvt36g6U process mining adalah sebuah disiplin analitis yang membantu organisasi memahami proses bisnis mereka dengan mengumpulkan data tentang aktivitas dan hubungan di antara staf. \n",
    "\n",
    "Tujuan utama process mining adalah untuk memperoleh pemahaman yang lebih baik tentang proses-proses tersebut agar efisiensi dan kinerja dapat ditingkatkan. "
   ]
  },
  {
   "cell_type": "markdown",
   "metadata": {},
   "source": [
    "# PM4PY"
   ]
  },
  {
   "cell_type": "markdown",
   "metadata": {},
   "source": [
    "Saya akan menjelaskan bagaimana cara import dann export event data dengan PM4PY. \n",
    "\n",
    "Saya asumsikan bahwa anda sudah familiar dengan dasar dari process mining."
   ]
  },
  {
   "cell_type": "markdown",
   "metadata": {},
   "source": [
    "Untuk mendukung interoperabilitsebagaintara berbagai alat dan perpustakaan process mining, terdapat dua format data standar yang digunakan untuk merekam log peristiwa, yaitu file Comma Separated Value (CSV) dan file eXtensible Event Stream (XES). File CSV menyerupai tabel, setiap baris dalam file CSV menggambarkan suatu peristiwa yang terjadi Kolom-kolom mewakili jenis data yang sama, seperti yang terlihat pada contoh-contoh, misalnya kasus di mana peristiwa terjadi, aktivitas, waktu, sumber yang menjalankan aktivitas, dan sebagainya. \n",
    "\n",
    "Format file XES adalah format berbasis XML yang memungkinkan kita untuk menggambarkan perilaku proses. Detailnya: https://www.xes-standard.org"
   ]
  },
  {
   "cell_type": "code",
   "execution_count": 5,
   "metadata": {},
   "outputs": [],
   "source": [
    "import pandas\n",
    "import pm4py"
   ]
  },
  {
   "cell_type": "markdown",
   "metadata": {},
   "source": [
    "## Loading CSV Files"
   ]
  },
  {
   "cell_type": "code",
   "execution_count": 6,
   "metadata": {},
   "outputs": [
    {
     "name": "stdout",
     "output_type": "stream",
     "text": [
      "Start activities: {'register request': 6}\n",
      "End activities: {'reject request': 3, 'pay compensation': 3}\n"
     ]
    }
   ],
   "source": [
    "def import_csv(file_path):\n",
    "    event_log = pandas.read_csv(file_path, sep=';')\n",
    "    event_log = pm4py.format_dataframe(event_log, case_id='case_id', activity_key='activity', timestamp_key='timestamp')\n",
    "    start_activities = pm4py.get_start_activities(event_log)\n",
    "    end_activities = pm4py.get_end_activities(event_log)\n",
    "    print(\"Start activities: {}\\nEnd activities: {}\".format(start_activities, end_activities))\n",
    "\n",
    "\n",
    "if __name__ == \"__main__\":\n",
    "    import_csv(\"running-example.csv\")"
   ]
  },
  {
   "cell_type": "markdown",
   "metadata": {},
   "source": [
    "Dapat dilihat ada beberapa objek dan keynya"
   ]
  },
  {
   "cell_type": "markdown",
   "metadata": {},
   "source": [
    "## Loading XES Files"
   ]
  },
  {
   "cell_type": "markdown",
   "metadata": {},
   "source": [
    "Berikut adalah cara load file format .xes"
   ]
  },
  {
   "cell_type": "code",
   "execution_count": 7,
   "metadata": {},
   "outputs": [
    {
     "data": {
      "application/vnd.jupyter.widget-view+json": {
       "model_id": "703df0a939ce4f4397bdbda6ed482f7f",
       "version_major": 2,
       "version_minor": 0
      },
      "text/plain": [
       "parsing log, completed traces ::   0%|          | 0/6 [00:00<?, ?it/s]"
      ]
     },
     "metadata": {},
     "output_type": "display_data"
    },
    {
     "name": "stdout",
     "output_type": "stream",
     "text": [
      "Start activities: {'register request': 6}\n",
      "End activities: {'reject request': 3, 'pay compensation': 3}\n"
     ]
    }
   ],
   "source": [
    "def import_xes(file_path):\n",
    "    event_log = pm4py.read_xes(file_path)\n",
    "    start_activities = pm4py.get_start_activities(event_log)\n",
    "    end_activities = pm4py.get_end_activities(event_log)\n",
    "    print(\"Start activities: {}\\nEnd activities: {}\".format(start_activities, end_activities))\n",
    "\n",
    "if __name__ == \"__main__\":\n",
    "    import_xes(\"running-example.xes\")"
   ]
  },
  {
   "cell_type": "markdown",
   "metadata": {},
   "source": [
    "Dapat dilihat ada beberapa objek dan keynya"
   ]
  },
  {
   "cell_type": "markdown",
   "metadata": {},
   "source": [
    "## Exporting Event Data"
   ]
  },
  {
   "cell_type": "markdown",
   "metadata": {},
   "source": [
    "### Menyimpan Pandas Data Frame sebagai csv file"
   ]
  },
  {
   "cell_type": "code",
   "execution_count": 8,
   "metadata": {},
   "outputs": [],
   "source": [
    "if __name__ == \"__main__\":\n",
    "    event_log = pm4py.format_dataframe(pandas.read_csv('running-example.csv', sep=';'), case_id='case_id',\n",
    "    activity_key='activity', timestamp_key='timestamp')\n",
    "    event_log.to_csv('running-example-exported.csv')"
   ]
  },
  {
   "cell_type": "markdown",
   "metadata": {},
   "source": [
    "### Menyimpan Pandas Data Frame sebagai .xes file"
   ]
  },
  {
   "cell_type": "code",
   "execution_count": 9,
   "metadata": {},
   "outputs": [
    {
     "data": {
      "application/vnd.jupyter.widget-view+json": {
       "model_id": "180d0eec45d84f9599614d334f944b1f",
       "version_major": 2,
       "version_minor": 0
      },
      "text/plain": [
       "exporting log, completed traces ::   0%|          | 0/6 [00:00<?, ?it/s]"
      ]
     },
     "metadata": {},
     "output_type": "display_data"
    }
   ],
   "source": [
    "if __name__ == \"__main__\":\n",
    "    event_log = pm4py.format_dataframe(pandas.read_csv('running-example.csv', sep=';'), case_id='case_id',\n",
    "                                           activity_key='activity', timestamp_key='timestamp')\n",
    "    pm4py.write_xes(event_log, 'running-example-exported.xes')"
   ]
  },
  {
   "cell_type": "markdown",
   "metadata": {},
   "source": [
    "### Menyimpan Event Log object sebagai .csv file"
   ]
  },
  {
   "cell_type": "code",
   "execution_count": 10,
   "metadata": {},
   "outputs": [
    {
     "data": {
      "application/vnd.jupyter.widget-view+json": {
       "model_id": "f07b4940405b4d4a89fef9d56ffa1380",
       "version_major": 2,
       "version_minor": 0
      },
      "text/plain": [
       "parsing log, completed traces ::   0%|          | 0/6 [00:00<?, ?it/s]"
      ]
     },
     "metadata": {},
     "output_type": "display_data"
    }
   ],
   "source": [
    "if __name__ == \"__main__\":\n",
    "    event_log = pm4py.read_xes('running-example.xes')\n",
    "    df = pm4py.convert_to_dataframe(event_log)\n",
    "    df.to_csv('running-example-exported.csv')"
   ]
  },
  {
   "cell_type": "markdown",
   "metadata": {},
   "source": [
    "### Menyimpan Event Log object sebagai .xes file"
   ]
  },
  {
   "cell_type": "code",
   "execution_count": 11,
   "metadata": {},
   "outputs": [
    {
     "data": {
      "application/vnd.jupyter.widget-view+json": {
       "model_id": "73f101f41ee547fab122a4ff806793b5",
       "version_major": 2,
       "version_minor": 0
      },
      "text/plain": [
       "parsing log, completed traces ::   0%|          | 0/6 [00:00<?, ?it/s]"
      ]
     },
     "metadata": {},
     "output_type": "display_data"
    },
    {
     "data": {
      "application/vnd.jupyter.widget-view+json": {
       "model_id": "7b39ca901e054eca8971b4c84e7e6c01",
       "version_major": 2,
       "version_minor": 0
      },
      "text/plain": [
       "exporting log, completed traces ::   0%|          | 0/6 [00:00<?, ?it/s]"
      ]
     },
     "metadata": {},
     "output_type": "display_data"
    }
   ],
   "source": [
    "if __name__ == \"__main__\":\n",
    "    event_log = pm4py.read_xes('running-example.xes')\n",
    "    pm4py.write_xes(event_log, 'running-example-exported.xes')"
   ]
  }
 ],
 "metadata": {
  "kernelspec": {
   "display_name": "Python 3",
   "language": "python",
   "name": "python3"
  },
  "language_info": {
   "codemirror_mode": {
    "name": "ipython",
    "version": 3
   },
   "file_extension": ".py",
   "mimetype": "text/x-python",
   "name": "python",
   "nbconvert_exporter": "python",
   "pygments_lexer": "ipython3",
   "version": "3.11.2"
  }
 },
 "nbformat": 4,
 "nbformat_minor": 2
}
